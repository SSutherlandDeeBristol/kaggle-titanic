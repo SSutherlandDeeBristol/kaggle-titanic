{
 "cells": [
  {
   "cell_type": "code",
   "execution_count": 197,
   "metadata": {},
   "outputs": [],
   "source": [
    "import csv\n",
    "import matplotlib.pyplot as plt\n",
    "import numpy as np\n",
    "import torch\n",
    "from torch import nn\n",
    "from torch.nn import functional as F\n",
    "import math"
   ]
  },
  {
   "cell_type": "code",
   "execution_count": 301,
   "metadata": {},
   "outputs": [],
   "source": [
    "batch_size = 64\n",
    "learning_rate = 1e-3\n",
    "epochs = 25\n",
    "validation_size = 50"
   ]
  },
  {
   "cell_type": "code",
   "execution_count": 302,
   "metadata": {},
   "outputs": [],
   "source": [
    "train_file = open('train.csv')\n",
    "train_reader = csv.reader(train_file, delimiter=',')\n",
    "train_data = np.array(list(train_reader)[1:])\n",
    "\n",
    "labels = list(zip(train_data[:,0].astype(int),train_data[:,1].astype(np.float)))\n",
    "\n",
    "labels_map = {key: value for (key, value) in labels}\n",
    "\n",
    "#delete survival\n",
    "train_data = np.delete(train_data, 1, 1)\n",
    "\n",
    "# delete names\n",
    "train_data = np.delete(train_data, 2, 1)\n",
    "\n",
    "# delete ticket number\n",
    "train_data = np.delete(train_data, 6, 1)\n",
    "\n",
    "# delete cabin #\n",
    "train_data = np.delete(train_data, 7, 1)\n",
    "\n",
    "# encode gender\n",
    "train_data[train_data=='male'] = 0.0\n",
    "train_data[train_data=='female'] = 1.0\n",
    "\n",
    "# encode port\n",
    "train_data[train_data=='C'] = 0.0\n",
    "train_data[train_data=='Q'] = 1.0\n",
    "train_data[train_data=='S'] = 2.0\n",
    "\n",
    "train_data[train_data==''] = -1\n",
    "\n",
    "train_data = train_data.astype(np.float)\n",
    "\n",
    "ids = train_data[:,0].astype(int)\n",
    "\n",
    "#delete ids\n",
    "train_data = np.delete(train_data, 0, 1)\n",
    "\n",
    "train_data = list(zip(ids, train_data[:,0:]))\n",
    "\n",
    "# class, gender, age, #siblings/spouses, #parents/children, ticket #, fare, cabin #, port"
   ]
  },
  {
   "cell_type": "code",
   "execution_count": 303,
   "metadata": {},
   "outputs": [],
   "source": [
    "# shuffle and split for validation\n",
    "np.random.shuffle(train_data)\n",
    "validation_data = train_data[:validation_size]\n",
    "train_data = train_data[validation_size:]"
   ]
  },
  {
   "cell_type": "code",
   "execution_count": 304,
   "metadata": {},
   "outputs": [],
   "source": [
    "class FCModel(nn.Module):\n",
    "    def __init__(self, input_dims):\n",
    "        super().__init__()\n",
    "        \n",
    "        self.input_dims = input_dims\n",
    "\n",
    "        self.fc1 = nn.Linear(7, 300)\n",
    "        self.fc2 = nn.Linear(self.fc1.out_features, 100)\n",
    "        self.fc3 = nn.Linear(self.fc2.out_features, 50)\n",
    "        self.fc4 = nn.Linear(self.fc3.out_features, 1)\n",
    "        \n",
    "    def forward(self, input):\n",
    "        x = F.relu(self.fc1(input))\n",
    "        x = F.relu(self.fc2(x))\n",
    "        x = F.relu(self.fc3(x))\n",
    "        x = self.fc4(x)\n",
    "        return x"
   ]
  },
  {
   "cell_type": "code",
   "execution_count": 305,
   "metadata": {},
   "outputs": [
    {
     "name": "stdout",
     "output_type": "stream",
     "text": [
      "validation | epoch: (0/25) accuracy: 66.00\n",
      "validation | epoch: (1/25) accuracy: 70.00\n",
      "validation | epoch: (2/25) accuracy: 70.00\n",
      "validation | epoch: (3/25) accuracy: 70.00\n",
      "validation | epoch: (4/25) accuracy: 70.00\n",
      "validation | epoch: (5/25) accuracy: 70.00\n",
      "validation | epoch: (6/25) accuracy: 70.00\n",
      "validation | epoch: (7/25) accuracy: 70.00\n",
      "validation | epoch: (8/25) accuracy: 70.00\n",
      "validation | epoch: (9/25) accuracy: 70.00\n",
      "validation | epoch: (10/25) accuracy: 70.00\n",
      "validation | epoch: (11/25) accuracy: 72.00\n",
      "validation | epoch: (12/25) accuracy: 72.00\n",
      "validation | epoch: (13/25) accuracy: 72.00\n",
      "validation | epoch: (14/25) accuracy: 72.00\n",
      "validation | epoch: (15/25) accuracy: 76.00\n",
      "validation | epoch: (16/25) accuracy: 82.00\n",
      "validation | epoch: (17/25) accuracy: 80.00\n",
      "validation | epoch: (18/25) accuracy: 78.00\n",
      "validation | epoch: (19/25) accuracy: 76.00\n",
      "validation | epoch: (20/25) accuracy: 78.00\n",
      "validation | epoch: (21/25) accuracy: 78.00\n",
      "validation | epoch: (22/25) accuracy: 82.00\n",
      "validation | epoch: (23/25) accuracy: 78.00\n",
      "validation | epoch: (24/25) accuracy: 78.00\n"
     ]
    },
    {
     "data": {
      "text/plain": [
       "[<matplotlib.lines.Line2D at 0x7f5f8666de90>]"
      ]
     },
     "execution_count": 305,
     "metadata": {},
     "output_type": "execute_result"
    },
    {
     "data": {
      "image/png": "[encoded data removed]",
      "text/plain": [
       "<Figure size 432x288 with 2 Axes>"
      ]
     },
     "metadata": {
      "needs_background": "light"
     },
     "output_type": "display_data"
    }
   ],
   "source": [
    "model = FCModel(7)\n",
    "\n",
    "step = 0\n",
    "\n",
    "num_batches = math.ceil(len(train_data) / batch_size)\n",
    "\n",
    "optimizer = torch.optim.Adam(model.parameters(), learning_rate)\n",
    "\n",
    "criterion = nn.BCEWithLogitsLoss()\n",
    "\n",
    "train_accuracies = []\n",
    "validation_accuracies = []\n",
    "\n",
    "def binary_accuracy(outputs, labels):\n",
    "    return sum([1 if x == y else 0 for x,y in zip(torch.round(torch.sigmoid(outputs)), labels)]) / len(labels)\n",
    "\n",
    "for i in range(epochs):\n",
    "    #train\n",
    "    model.train()\n",
    "    \n",
    "    for j in range(num_batches):\n",
    "        start_index = j * batch_size\n",
    "        end_index = start_index + batch_size if len(train_data) > batch_size * j + batch_size else len(train_data)\n",
    "        \n",
    "        batch = train_data[start_index:end_index]\n",
    "        \n",
    "        batch_labels = torch.Tensor([labels_map[x] for x,_ in batch]).unsqueeze(1)\n",
    "        \n",
    "        batch_data = torch.Tensor([data for _,data in batch]).float()\n",
    "\n",
    "        output = model.forward(batch_data)\n",
    "        \n",
    "        loss = criterion(output, batch_labels)\n",
    "        \n",
    "        loss.backward()\n",
    "        \n",
    "        optimizer.step()\n",
    "        optimizer.zero_grad()\n",
    "        \n",
    "        accuracy = binary_accuracy(output, batch_labels)\n",
    "        \n",
    "        train_accuracies.append([step, accuracy])\n",
    "        \n",
    "        step += 1\n",
    "        \n",
    "        # print(f'epoch: ({i}/{epochs}) | step: ({step % num_batches}/{num_batches}) | loss: {loss} | accuracy: {100 * accuracy:.2f}')\n",
    "        \n",
    "    #validate\n",
    "    model.eval()\n",
    "    with torch.no_grad():\n",
    "        validation_labels = torch.Tensor([labels_map[x] for x,_ in validation_data]).unsqueeze(1)\n",
    "\n",
    "        validation_input = torch.Tensor([data for _,data in validation_data]).float()\n",
    "\n",
    "        output = model.forward(validation_input)\n",
    "\n",
    "        accuracy = binary_accuracy(output, validation_labels)\n",
    "        \n",
    "        validation_accuracies.append([i, accuracy])\n",
    "        \n",
    "        print(f'validation | epoch: ({i}/{epochs}) accuracy: {100 * accuracy:.2f}')\n",
    "        \n",
    "plt.figure(1)\n",
    "plt.ylim(0.0,1.0)\n",
    "\n",
    "train_accuracies = np.array(train_accuracies)\n",
    "\n",
    "plt.subplot(211)\n",
    "plt.ylim(0.0,1.0)\n",
    "plt.plot(train_accuracies[:,0], train_accuracies[:,1])\n",
    "\n",
    "validation_accuracies = np.array(validation_accuracies)\n",
    "\n",
    "plt.subplot(212)\n",
    "plt.ylim(0.0,1.0)\n",
    "plt.plot(validation_accuracies[:,0], validation_accuracies[:,1])"
   ]
  },
  {
   "cell_type": "code",
   "execution_count": null,
   "metadata": {},
   "outputs": [],
   "source": []
  }
 ],
 "metadata": {
  "kernelspec": {
   "display_name": "Python 3",
   "language": "python",
   "name": "python3"
  },
  "language_info": {
   "codemirror_mode": {
    "name": "ipython",
    "version": 3
   },
   "file_extension": ".py",
   "mimetype": "text/x-python",
   "name": "python",
   "nbconvert_exporter": "python",
   "pygments_lexer": "ipython3",
   "version": "3.7.6"
  }
 },
 "nbformat": 4,
 "nbformat_minor": 4
}
